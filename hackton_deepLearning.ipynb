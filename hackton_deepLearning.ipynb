{
  "nbformat": 4,
  "nbformat_minor": 0,
  "metadata": {
    "colab": {
      "provenance": [],
      "mount_file_id": "1ubUPt6yiBKXM6n6kwT8B6njyGew5jXvM",
      "authorship_tag": "ABX9TyNHItsmEKqeqycj3oJabTzf",
      "include_colab_link": true
    },
    "kernelspec": {
      "name": "python3",
      "display_name": "Python 3"
    },
    "language_info": {
      "name": "python"
    }
  },
  "cells": [
    {
      "cell_type": "markdown",
      "metadata": {
        "id": "view-in-github",
        "colab_type": "text"
      },
      "source": [
        "<a href=\"https://colab.research.google.com/github/CHOKKAKULA1999/Deep-Learning-/blob/main/hackton_deepLearning.ipynb\" target=\"_parent\"><img src=\"https://colab.research.google.com/assets/colab-badge.svg\" alt=\"Open In Colab\"/></a>"
      ]
    },
    {
      "cell_type": "markdown",
      "source": [
        "IMPORTANT LIBARRIES "
      ],
      "metadata": {
        "id": "WuNpNcMkUfMQ"
      }
    },
    {
      "cell_type": "code",
      "execution_count": 1,
      "metadata": {
        "id": "4aRKGmzzTtRm"
      },
      "outputs": [],
      "source": [
        "import tensorflow as tf\n",
        "from tensorflow.keras import models, layers\n",
        "import numpy as np\n",
        "import pandas as pd\n",
        "import matplotlib.pyplot as plt\n",
        "import os\n",
        "\n",
        "# Data Visualization\n",
        "import matplotlib.pyplot as plt\n",
        "import plotly.express as px\n"
      ]
    },
    {
      "cell_type": "markdown",
      "source": [
        "ACTUALL CODE START "
      ],
      "metadata": {
        "id": "suFxCMPKUbC1"
      }
    },
    {
      "cell_type": "code",
      "source": [
        "seg_train ='C:\\\\Users\\\\chokkakula.n\\\\Downloads\\\\archive\\\\seg_train\\\\seg_train'\n",
        "seg_test = 'C:\\\\Users\\\\chokkakula.n\\\\Downloads\\\\archive\\\\seg_test\\\\seg_test'\n",
        "seg_pred = 'C:\\\\Users\\\\chokkakula.n\\\\Downloads\\\\archive\\\\seg_pred\\\\seg_pred'"
      ],
      "metadata": {
        "id": "0Ip678UDUrDZ"
      },
      "execution_count": 4,
      "outputs": []
    },
    {
      "cell_type": "code",
      "source": [
        "from tensorflow.keras.preprocessing.image import ImageDataGenerator\n",
        "\n",
        "train_datagen = ImageDataGenerator(rescale=1./255,\n",
        "                                   shear_range=0.2,\n",
        "                                   zoom_range=0.2,\n",
        "                                   horizontal_flip=True)\n",
        "\n",
        "test_datagen = ImageDataGenerator(rescale=1./255)\n",
        "\n",
        "train_generator = train_datagen.flow_from_directory(\n",
        "        seg_train,  # This is the path to the training directory\n",
        "        target_size=(150, 150),  # Resize all images to 150x150\n",
        "        batch_size=32,\n",
        "        class_mode='categorical')  # Use categorical_crossentropy loss\n",
        "\n",
        "validation_generator = test_datagen.flow_from_directory(\n",
        "        seg_test,\n",
        "        target_size=(150, 150),\n",
        "        batch_size=32,\n",
        "        class_mode='categorical')\n",
        "\n",
        "test_generator = test_datagen.flow_from_directory(\n",
        "        seg_pred,\n",
        "        target_size=(150, 150),\n",
        "        batch_size=32,\n",
        "        class_mode='categorical')\n",
        "\n"
      ],
      "metadata": {
        "id": "iBDxt4BuW7Ha"
      },
      "execution_count": null,
      "outputs": []
    },
    {
      "cell_type": "markdown",
      "source": [
        "EACH CLASS DISTRIBUTION "
      ],
      "metadata": {
        "id": "gLIdZkFXUx1I"
      }
    },
    {
      "cell_type": "code",
      "source": [
        "class_names = sorted(os.listdir(seg_train))\n",
        "n_classes = len(class_names)\n",
        "\n",
        "# Show\n",
        "print(f\"Num Classes : {n_classes}\")\n",
        "print(f\"Class Names : {class_names}\")"
      ],
      "metadata": {
        "id": "nRJpb6fVUwGD"
      },
      "execution_count": null,
      "outputs": []
    },
    {
      "cell_type": "markdown",
      "source": [
        "CHECKING THE IMAGES "
      ],
      "metadata": {
        "id": "g097y2DAU6iq"
      }
    },
    {
      "cell_type": "code",
      "source": [
        "label_names = ['buildings', 'forest', 'glacier', 'mountain', 'sea', 'street']\n",
        "import matplotlib.pyplot as plt\n",
        "\n",
        "# Get a batch of images and labels from the train_generator\n",
        "images, labels = next(train_generator)\n",
        "\n",
        "# Plot the first 10 images in the batch\n",
        "fig, ax = plt.subplots(nrows=2, ncols=5, figsize=(10, 6))\n",
        "for i in range(10):\n",
        "    row = i // 5\n",
        "    col = i % 5\n",
        "    ax[row, col].imshow(images[i])\n",
        "    ax[row, col].set_title(label_names[np.argmax(labels[i])])\n",
        "    ax[row, col].axis('off')\n",
        "plt.tight_layout()\n",
        "plt.show()"
      ],
      "metadata": {
        "id": "4zaNroxXU8Tr"
      },
      "execution_count": null,
      "outputs": []
    },
    {
      "cell_type": "markdown",
      "source": [
        "DEFINING ANF BUILDING THE MODEL "
      ],
      "metadata": {
        "id": "LxTRmptIVHiq"
      }
    },
    {
      "cell_type": "code",
      "source": [
        "from tensorflow.keras.models import Sequential\n",
        "from tensorflow.keras.layers import Conv2D, MaxPooling2D, Flatten, Dense, Dropout\n",
        "\n",
        "# Define the input shape of the images\n",
        "input_shape = (150, 150, 3)\n",
        "\n",
        "# Create a Sequential model\n",
        "model = Sequential()\n",
        "\n",
        "# Add the first convolutional layer with 32 filters, a 3x3 kernel size, and ReLU activation\n",
        "model.add(Conv2D(32, (3, 3), activation='relu', input_shape=input_shape))\n",
        "\n",
        "# Add a max pooling layer with a 2x2 pool size\n",
        "model.add(MaxPooling2D(pool_size=(2, 2)))\n",
        "\n",
        "# Add a second convolutional layer with 64 filters and a 3x3 kernel size\n",
        "model.add(Conv2D(64, (3, 3), activation='relu'))\n",
        "\n",
        "# Add a max pooling layer with a 2x2 pool size\n",
        "model.add(MaxPooling2D(pool_size=(2, 2)))\n",
        "\n",
        "# Add a third convolutional layer with 128 filters and a 3x3 kernel size\n",
        "model.add(Conv2D(128, (3, 3), activation='relu'))\n",
        "\n",
        "# Add a max pooling layer with a 2x2 pool size\n",
        "model.add(MaxPooling2D(pool_size=(2, 2)))\n",
        "\n",
        "# Flatten the output of the convolutional layers\n",
        "model.add(Flatten())\n",
        "\n",
        "# Add a fully connected layer with 512 units and ReLU activation\n",
        "model.add(Dense(512, activation='relu'))\n",
        "\n",
        "# Add a dropout layer with a rate of 0.5\n",
        "model.add(Dropout(0.5))\n",
        "\n",
        "# Add the output layer with 6 units and softmax activation (for multi-class classification)\n",
        "model.add(Dense(6, activation='softmax'))\n",
        "\n",
        "# Compile the model with categorical cross-entropy loss, Adam optimizer, and accuracy metric\n",
        "model.compile(loss='categorical_crossentropy',\n",
        "              optimizer='adam',\n",
        "              metrics=['accuracy'])\n",
        "\n",
        "# Print the summary of the model architecture\n",
        "model.summary()\n"
      ],
      "metadata": {
        "id": "AqgXzfDXVE8h"
      },
      "execution_count": null,
      "outputs": []
    },
    {
      "cell_type": "code",
      "source": [
        "\n",
        "model.fit(train_generator,\n",
        "          epochs=10,\n",
        "          validation_data=validation_generator)"
      ],
      "metadata": {
        "id": "YhyBaQQEVPV1"
      },
      "execution_count": null,
      "outputs": []
    },
    {
      "cell_type": "code",
      "source": [
        "from PIL import Image\n",
        "import numpy as np\n",
        "\n",
        "# Load an image using PIL\n",
        "img = Image.open('C:\\\\Users\\\\chokkakula.n\\\\Downloads\\\\archive\\\\seg_pred\\\\seg_pred\\\\388.jpg')\n",
        "\n",
        "# Resize the image to a target size\n",
        "img = img.resize((150, 150))\n",
        "\n",
        "# Convert the PIL image to a NumPy array\n",
        "img_array = np.array(img)\n",
        "\n",
        "# Preprocess the image array\n",
        "img_array = img_array.astype('float32') / 255.0\n",
        "img_array = img_array.reshape((1, 150, 150, 3))\n",
        "\n",
        "# Make a prediction using the model\n",
        "prediction = model.predict(img_array)\n",
        "# Get the predicted class label\n",
        "predicted_class = np.argmax(prediction)\n",
        "\n",
        "print('Predicted class:', predicted_class)\n"
      ],
      "metadata": {
        "id": "TikkL3naVXQV"
      },
      "execution_count": null,
      "outputs": []
    },
    {
      "cell_type": "code",
      "source": [
        "import csv\n",
        "from tensorflow.keras.models import load_model\n",
        "from tensorflow.keras.preprocessing.image import load_img, img_to_array\n",
        "\n",
        "\n",
        "\n",
        "# Define the path to the directory containing the images\n",
        "image_dir = 'C:\\\\Users\\\\chokkakula.n\\\\Downloads\\\\archive\\\\seg_pred\\\\seg_pred'\n",
        "\n",
        "# Get the list of image filenames in the directory\n",
        "image_filenames = os.listdir(image_dir)\n",
        "\n",
        "# Create a list to hold the predictions\n",
        "predictions = []\n",
        "\n",
        "# Loop over the images and make predictions\n",
        "for filename in image_filenames:\n",
        "    # Load the image\n",
        "    img = load_img(os.path.join(image_dir, filename), target_size=(150, 150))\n",
        "    \n",
        "    # Convert the image to a NumPy array\n",
        "    img_array = img_to_array(img)\n",
        "    \n",
        "    # Normalize the pixel values\n",
        "    img_array /= 255.\n",
        "    \n",
        "    # Reshape the array to match the input shape of the model\n",
        "    img_array = img_array.reshape((1, ) + img_array.shape)\n",
        "    \n",
        "    # Make the prediction\n",
        "    pred = model.predict(img_array)\n",
        "    \n",
        "    # Get the predicted class label\n",
        "    predicted_class = np.argmax(pred, axis=1)[0]\n",
        "    \n",
        "    # Add the prediction to the list\n",
        "    predictions.append((filename, predicted_class))\n",
        "\n",
        "# Write the predictions to a CSV file\n",
        "with open('predictions.csv', 'w', newline='') as csvfile:\n",
        "    writer = csv.writer(csvfile)\n",
        "    writer.writerow(['image name', 'predicted class'])\n",
        "    for prediction in predictions:\n",
        "        writer.writerow(prediction)"
      ],
      "metadata": {
        "id": "o4PBgMgPVbnu"
      },
      "execution_count": null,
      "outputs": []
    },
    {
      "cell_type": "code",
      "source": [
        "# Save the model to a file\n",
        "model.save('my_model.h5')"
      ],
      "metadata": {
        "id": "leSrPEAPVgH0"
      },
      "execution_count": null,
      "outputs": []
    },
    {
      "cell_type": "markdown",
      "source": [
        "BY USING VGG16"
      ],
      "metadata": {
        "id": "KOBG8mvxVk0h"
      }
    },
    {
      "cell_type": "code",
      "source": [
        "from keras.applications import VGG16\n",
        "from keras.models import Sequential\n",
        "from keras.layers import Dense, Dropout, Flatten\n",
        "\n",
        "# Load the VGG16 model without the top layers\n",
        "base_model = VGG16(weights='imagenet', include_top=False, input_shape=(150, 150, 3))\n",
        "\n",
        "# Freeze the weights of the base model\n",
        "for layer in base_model.layers:\n",
        "    layer.trainable = False\n",
        "\n",
        "# Add new layers on top of the base model\n",
        "model = Sequential()\n",
        "model.add(base_model)\n",
        "model.add(Flatten())\n",
        "model.add(Dense(512, activation='relu'))\n",
        "model.add(Dropout(0.5))\n",
        "model.add(Dense(6, activation='softmax'))\n",
        "\n",
        "# Compile the model\n",
        "model.compile(optimizer='adam', loss='categorical_crossentropy', metrics=['accuracy'])\n",
        "\n",
        "# Print the model summary\n",
        "model.summary()\n"
      ],
      "metadata": {
        "id": "x8EB5DE2VmRz"
      },
      "execution_count": null,
      "outputs": []
    },
    {
      "cell_type": "code",
      "source": [
        "# Train the model\n",
        "model.fit(train_generator, epochs=10, validation_data=validation_generator)"
      ],
      "metadata": {
        "id": "U3HCJf82VpJC"
      },
      "execution_count": null,
      "outputs": []
    }
  ]
}